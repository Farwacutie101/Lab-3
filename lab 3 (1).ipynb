{
 "cells": [
  {
   "cell_type": "code",
   "execution_count": 2,
   "id": "4862a8ce",
   "metadata": {},
   "outputs": [
    {
     "name": "stdout",
     "output_type": "stream",
     "text": [
      "Combined Dataframe:\n",
      "  student_id              name  marks\n",
      "0         S1  Danniella Fenton    200\n",
      "1         S2      Ryder Storey    210\n",
      "2         S3      Bryce Jensen    190\n",
      "3         S4         Ed Bernal    222\n",
      "4         S5       Kwame Morin    199\n",
      "5         S4  Scarlette Fisher    201\n",
      "6         S5  Carla Williamson    200\n",
      "7         S6       Dante Morse    198\n",
      "8         S7    Kaiser William    219\n",
      "9         S8   Madeeha Preston    201\n"
     ]
    }
   ],
   "source": [
    "# Lab-3\n",
    "import pandas as pd\n",
    "import numpy as np\n",
    "##1. Write a Pandas program to join the two given dataframes along rows and assign all data.\n",
    "# Test Data\n",
    "student_data1 = {\n",
    "    'student_id': ['S1', 'S2', 'S3', 'S4', 'S5'],\n",
    "    'name': ['Danniella Fenton', 'Ryder Storey', 'Bryce Jensen', 'Ed Bernal', 'Kwame Morin'],\n",
    "    'marks': [200, 210, 190, 222, 199]\n",
    "}\n",
    "\n",
    "student_data2 = {\n",
    "    'student_id': ['S4', 'S5', 'S6', 'S7', 'S8'],\n",
    "    'name': ['Scarlette Fisher', 'Carla Williamson', 'Dante Morse', 'Kaiser William', 'Madeeha Preston'],\n",
    "    'marks': [201, 200, 198, 219, 201]\n",
    "}\n",
    "# Creating dataframes\n",
    "df1 = pd.DataFrame(student_data1)\n",
    "df2 = pd.DataFrame(student_data2)\n",
    "# Joining the dataframes along rows and assigning all data\n",
    "df_combined = pd.concat([df1, df2], ignore_index=True)\n",
    "\n",
    "print(\"Combined Dataframe:\")\n",
    "print(df_combined)\n"
   ]
  },
  {
   "cell_type": "code",
   "execution_count": 3,
   "id": "df7eecba",
   "metadata": {},
   "outputs": [
    {
     "name": "stdout",
     "output_type": "stream",
     "text": [
      "Combined Dataframe:\n",
      "  student_id              name  marks student_id              name  marks\n",
      "0         S1  Danniella Fenton    200         S4  Scarlette Fisher    201\n",
      "1         S2      Ryder Storey    210         S5  Carla Williamson    200\n",
      "2         S3      Bryce Jensen    190         S6       Dante Morse    198\n",
      "3         S4         Ed Bernal    222         S7    Kaiser William    219\n",
      "4         S5       Kwame Morin    199         S8   Madeeha Preston    201\n"
     ]
    }
   ],
   "source": [
    "# 2 Write a Pandas program to join the two given dataframes along columns and assign all data.\n",
    "# Test Data\n",
    "student_data1 = {\n",
    "    'student_id': ['S1', 'S2', 'S3', 'S4', 'S5'],\n",
    "    'name': ['Danniella Fenton', 'Ryder Storey', 'Bryce Jensen', 'Ed Bernal', 'Kwame Morin'],\n",
    "    'marks': [200, 210, 190, 222, 199]\n",
    "}\n",
    "\n",
    "student_data2 = {\n",
    "    'student_id': ['S4', 'S5', 'S6', 'S7', 'S8'],\n",
    "    'name': ['Scarlette Fisher', 'Carla Williamson', 'Dante Morse', 'Kaiser William', 'Madeeha Preston'],\n",
    "    'marks': [201, 200, 198, 219, 201]\n",
    "}\n",
    "\n",
    "# Creating dataframes\n",
    "df1 = pd.DataFrame(student_data1)\n",
    "df2 = pd.DataFrame(student_data2)\n",
    "\n",
    "# Joining the dataframes along columns and assigning all data\n",
    "df_combined = pd.concat([df1, df2], axis=1)\n",
    "\n",
    "print(\"Combined Dataframe:\")\n",
    "print(df_combined)\n",
    "\n"
   ]
  },
  {
   "cell_type": "code",
   "execution_count": 4,
   "id": "83c9af8f",
   "metadata": {},
   "outputs": [
    {
     "ename": "AttributeError",
     "evalue": "'DataFrame' object has no attribute 'append'",
     "output_type": "error",
     "traceback": [
      "\u001b[1;31m---------------------------------------------------------------------------\u001b[0m",
      "\u001b[1;31mAttributeError\u001b[0m                            Traceback (most recent call last)",
      "\u001b[1;32m~\\AppData\\Local\\Temp\\ipykernel_26556\\25834025.py\u001b[0m in \u001b[0;36m?\u001b[1;34m()\u001b[0m\n\u001b[0;32m     16\u001b[0m     \u001b[1;34m'marks'\u001b[0m\u001b[1;33m:\u001b[0m \u001b[1;36m205\u001b[0m\u001b[1;33m\u001b[0m\u001b[1;33m\u001b[0m\u001b[0m\n\u001b[0;32m     17\u001b[0m }\n\u001b[0;32m     18\u001b[0m \u001b[1;33m\u001b[0m\u001b[0m\n\u001b[0;32m     19\u001b[0m \u001b[1;31m# Appending the new row to the DataFrame\u001b[0m\u001b[1;33m\u001b[0m\u001b[1;33m\u001b[0m\u001b[0m\n\u001b[1;32m---> 20\u001b[1;33m \u001b[0mdf\u001b[0m \u001b[1;33m=\u001b[0m \u001b[0mdf\u001b[0m\u001b[1;33m.\u001b[0m\u001b[0mappend\u001b[0m\u001b[1;33m(\u001b[0m\u001b[0mnew_row_data\u001b[0m\u001b[1;33m,\u001b[0m \u001b[0mignore_index\u001b[0m\u001b[1;33m=\u001b[0m\u001b[1;32mTrue\u001b[0m\u001b[1;33m)\u001b[0m\u001b[1;33m\u001b[0m\u001b[1;33m\u001b[0m\u001b[0m\n\u001b[0m\u001b[0;32m     21\u001b[0m \u001b[1;33m\u001b[0m\u001b[0m\n\u001b[0;32m     22\u001b[0m \u001b[0mprint\u001b[0m\u001b[1;33m(\u001b[0m\u001b[1;34m\"Combined DataFrame:\"\u001b[0m\u001b[1;33m)\u001b[0m\u001b[1;33m\u001b[0m\u001b[1;33m\u001b[0m\u001b[0m\n\u001b[0;32m     23\u001b[0m \u001b[0mprint\u001b[0m\u001b[1;33m(\u001b[0m\u001b[0mdf\u001b[0m\u001b[1;33m)\u001b[0m\u001b[1;33m\u001b[0m\u001b[1;33m\u001b[0m\u001b[0m\n",
      "\u001b[1;32m~\\anaconda3\\Lib\\site-packages\\pandas\\core\\generic.py\u001b[0m in \u001b[0;36m?\u001b[1;34m(self, name)\u001b[0m\n\u001b[0;32m   6200\u001b[0m             \u001b[1;32mand\u001b[0m \u001b[0mname\u001b[0m \u001b[1;32mnot\u001b[0m \u001b[1;32min\u001b[0m \u001b[0mself\u001b[0m\u001b[1;33m.\u001b[0m\u001b[0m_accessors\u001b[0m\u001b[1;33m\u001b[0m\u001b[1;33m\u001b[0m\u001b[0m\n\u001b[0;32m   6201\u001b[0m             \u001b[1;32mand\u001b[0m \u001b[0mself\u001b[0m\u001b[1;33m.\u001b[0m\u001b[0m_info_axis\u001b[0m\u001b[1;33m.\u001b[0m\u001b[0m_can_hold_identifiers_and_holds_name\u001b[0m\u001b[1;33m(\u001b[0m\u001b[0mname\u001b[0m\u001b[1;33m)\u001b[0m\u001b[1;33m\u001b[0m\u001b[1;33m\u001b[0m\u001b[0m\n\u001b[0;32m   6202\u001b[0m         ):\n\u001b[0;32m   6203\u001b[0m             \u001b[1;32mreturn\u001b[0m \u001b[0mself\u001b[0m\u001b[1;33m[\u001b[0m\u001b[0mname\u001b[0m\u001b[1;33m]\u001b[0m\u001b[1;33m\u001b[0m\u001b[1;33m\u001b[0m\u001b[0m\n\u001b[1;32m-> 6204\u001b[1;33m         \u001b[1;32mreturn\u001b[0m \u001b[0mobject\u001b[0m\u001b[1;33m.\u001b[0m\u001b[0m__getattribute__\u001b[0m\u001b[1;33m(\u001b[0m\u001b[0mself\u001b[0m\u001b[1;33m,\u001b[0m \u001b[0mname\u001b[0m\u001b[1;33m)\u001b[0m\u001b[1;33m\u001b[0m\u001b[1;33m\u001b[0m\u001b[0m\n\u001b[0m",
      "\u001b[1;31mAttributeError\u001b[0m: 'DataFrame' object has no attribute 'append'"
     ]
    }
   ],
   "source": [
    "# 3. Write a Pandas program to append rows to an existing DataFrame and display the combined data.\n",
    "\n",
    "# Existing DataFrame\n",
    "student_data1 = {\n",
    "    'student_id': ['S1', 'S2', 'S3', 'S4', 'S5'],\n",
    "    'name': ['Danniella Fenton', 'Ryder Storey', 'Bryce Jensen', 'Ed Bernal', 'Kwame Morin'],\n",
    "    'marks': [200, 210, 190, 222, 199]\n",
    "}\n",
    "\n",
    "df = pd.DataFrame(student_data1)\n",
    "\n",
    "# New Row Data\n",
    "new_row_data = {\n",
    "    'student_id': 'S6',\n",
    "    'name': 'Scarlette Fisher',\n",
    "    'marks': 205\n",
    "}\n",
    "\n",
    "# Appending the new row to the DataFrame\n",
    "df = df.append(new_row_data, ignore_index=True)\n",
    "\n",
    "print(\"Combined DataFrame:\")\n",
    "print(df)\n"
   ]
  },
  {
   "cell_type": "code",
   "execution_count": 5,
   "id": "733eb3a2",
   "metadata": {},
   "outputs": [
    {
     "ename": "AttributeError",
     "evalue": "'DataFrame' object has no attribute 'append'",
     "output_type": "error",
     "traceback": [
      "\u001b[1;31m---------------------------------------------------------------------------\u001b[0m",
      "\u001b[1;31mAttributeError\u001b[0m                            Traceback (most recent call last)",
      "\u001b[1;32m~\\AppData\\Local\\Temp\\ipykernel_26556\\2633764067.py\u001b[0m in \u001b[0;36m?\u001b[1;34m()\u001b[0m\n\u001b[0;32m     12\u001b[0m     \u001b[1;34m'name'\u001b[0m\u001b[1;33m:\u001b[0m \u001b[1;34m'Scarlette Fisher'\u001b[0m\u001b[1;33m,\u001b[0m\u001b[1;33m\u001b[0m\u001b[1;33m\u001b[0m\u001b[0m\n\u001b[0;32m     13\u001b[0m     \u001b[1;34m'marks'\u001b[0m\u001b[1;33m:\u001b[0m \u001b[1;36m205\u001b[0m\u001b[1;33m\u001b[0m\u001b[1;33m\u001b[0m\u001b[0m\n\u001b[0;32m     14\u001b[0m }\n\u001b[0;32m     15\u001b[0m \u001b[1;31m# Appending the new dictionary to the DataFrame\u001b[0m\u001b[1;33m\u001b[0m\u001b[1;33m\u001b[0m\u001b[0m\n\u001b[1;32m---> 16\u001b[1;33m \u001b[0mdf\u001b[0m \u001b[1;33m=\u001b[0m \u001b[0mdf\u001b[0m\u001b[1;33m.\u001b[0m\u001b[0mappend\u001b[0m\u001b[1;33m(\u001b[0m\u001b[0mnew_data_dict\u001b[0m\u001b[1;33m,\u001b[0m \u001b[0mignore_index\u001b[0m\u001b[1;33m=\u001b[0m\u001b[1;32mTrue\u001b[0m\u001b[1;33m)\u001b[0m\u001b[1;33m\u001b[0m\u001b[1;33m\u001b[0m\u001b[0m\n\u001b[0m\u001b[0;32m     17\u001b[0m \u001b[1;33m\u001b[0m\u001b[0m\n\u001b[0;32m     18\u001b[0m \u001b[0mprint\u001b[0m\u001b[1;33m(\u001b[0m\u001b[1;34m\"Combined DataFrame:\"\u001b[0m\u001b[1;33m)\u001b[0m\u001b[1;33m\u001b[0m\u001b[1;33m\u001b[0m\u001b[0m\n\u001b[0;32m     19\u001b[0m \u001b[0mprint\u001b[0m\u001b[1;33m(\u001b[0m\u001b[0mdf\u001b[0m\u001b[1;33m)\u001b[0m\u001b[1;33m\u001b[0m\u001b[1;33m\u001b[0m\u001b[0m\n",
      "\u001b[1;32m~\\anaconda3\\Lib\\site-packages\\pandas\\core\\generic.py\u001b[0m in \u001b[0;36m?\u001b[1;34m(self, name)\u001b[0m\n\u001b[0;32m   6200\u001b[0m             \u001b[1;32mand\u001b[0m \u001b[0mname\u001b[0m \u001b[1;32mnot\u001b[0m \u001b[1;32min\u001b[0m \u001b[0mself\u001b[0m\u001b[1;33m.\u001b[0m\u001b[0m_accessors\u001b[0m\u001b[1;33m\u001b[0m\u001b[1;33m\u001b[0m\u001b[0m\n\u001b[0;32m   6201\u001b[0m             \u001b[1;32mand\u001b[0m \u001b[0mself\u001b[0m\u001b[1;33m.\u001b[0m\u001b[0m_info_axis\u001b[0m\u001b[1;33m.\u001b[0m\u001b[0m_can_hold_identifiers_and_holds_name\u001b[0m\u001b[1;33m(\u001b[0m\u001b[0mname\u001b[0m\u001b[1;33m)\u001b[0m\u001b[1;33m\u001b[0m\u001b[1;33m\u001b[0m\u001b[0m\n\u001b[0;32m   6202\u001b[0m         ):\n\u001b[0;32m   6203\u001b[0m             \u001b[1;32mreturn\u001b[0m \u001b[0mself\u001b[0m\u001b[1;33m[\u001b[0m\u001b[0mname\u001b[0m\u001b[1;33m]\u001b[0m\u001b[1;33m\u001b[0m\u001b[1;33m\u001b[0m\u001b[0m\n\u001b[1;32m-> 6204\u001b[1;33m         \u001b[1;32mreturn\u001b[0m \u001b[0mobject\u001b[0m\u001b[1;33m.\u001b[0m\u001b[0m__getattribute__\u001b[0m\u001b[1;33m(\u001b[0m\u001b[0mself\u001b[0m\u001b[1;33m,\u001b[0m \u001b[0mname\u001b[0m\u001b[1;33m)\u001b[0m\u001b[1;33m\u001b[0m\u001b[1;33m\u001b[0m\u001b[0m\n\u001b[0m",
      "\u001b[1;31mAttributeError\u001b[0m: 'DataFrame' object has no attribute 'append'"
     ]
    }
   ],
   "source": [
    "# 4. Write a Pandas program to append a list of dictioneries or series to a existing DataFrame and display the combined data.\n",
    "# Existing DataFrame\n",
    "student_data1 = {\n",
    "    'student_id': ['S1', 'S2', 'S3', 'S4', 'S5'],\n",
    "    'name': ['Danniella Fenton', 'Ryder Storey', 'Bryce Jensen', 'Ed Bernal', 'Kwame Morin'],\n",
    "    'marks': [200, 210, 190, 222, 199]\n",
    "}\n",
    "df = pd.DataFrame(student_data1)\n",
    "# New Dictionary\n",
    "new_data_dict = {\n",
    "    'student_id': 'S6',\n",
    "    'name': 'Scarlette Fisher',\n",
    "    'marks': 205\n",
    "}\n",
    "# Appending the new dictionary to the DataFrame\n",
    "df = df.append(new_data_dict, ignore_index=True)\n",
    "\n",
    "print(\"Combined DataFrame:\")\n",
    "print(df)\n"
   ]
  },
  {
   "cell_type": "code",
   "execution_count": 6,
   "id": "8e582dcd",
   "metadata": {},
   "outputs": [
    {
     "name": "stdout",
     "output_type": "stream",
     "text": [
      "Final DataFrame:\n",
      "  student_id              name  marks  exam_id\n",
      "0         S1  Danniella Fenton    200       23\n",
      "1         S2      Ryder Storey    210       45\n",
      "2         S3      Bryce Jensen    190       12\n",
      "3         S4         Ed Bernal    222       67\n",
      "4         S4  Scarlette Fisher    201       67\n",
      "5         S5       Kwame Morin    199       21\n",
      "6         S5  Carla Williamson    200       21\n",
      "7         S7    Kaiser William    219       55\n",
      "8         S8   Madeeha Preston    201       33\n"
     ]
    }
   ],
   "source": [
    "# 5 Write a Pandas program to join the two given dataframes along rows and merge with another dataframe along the common column id.\n",
    "# Test Data\n",
    "student_data1 = {\n",
    "    'student_id': ['S1', 'S2', 'S3', 'S4', 'S5'],\n",
    "    'name': ['Danniella Fenton', 'Ryder Storey', 'Bryce Jensen', 'Ed Bernal', 'Kwame Morin'],\n",
    "    'marks': [200, 210, 190, 222, 199]\n",
    "}\n",
    "\n",
    "student_data2 = {\n",
    "    'student_id': ['S4', 'S5', 'S6', 'S7', 'S8'],\n",
    "    'name': ['Scarlette Fisher', 'Carla Williamson', 'Dante Morse', 'Kaiser William', 'Madeeha Preston'],\n",
    "    'marks': [201, 200, 198, 219, 201]\n",
    "}\n",
    "\n",
    "exam_data = {\n",
    "    'student_id': ['S1', 'S2', 'S3', 'S4', 'S5', 'S7', 'S8', 'S9', 'S10', 'S11', 'S12', 'S13'],\n",
    "    'exam_id': [23, 45, 12, 67, 21, 55, 33, 14, 56, 83, 88, 12]\n",
    "}\n",
    "\n",
    "# Creating dataframes\n",
    "df1 = pd.DataFrame(student_data1)\n",
    "df2 = pd.DataFrame(student_data2)\n",
    "exam_df = pd.DataFrame(exam_data)\n",
    "\n",
    "# Joining dataframes df1 and df2 along rows\n",
    "combined_df = pd.concat([df1, df2], ignore_index=True)\n",
    "\n",
    "# Merging combined_df with exam_df on 'student_id'\n",
    "final_df = pd.merge(combined_df, exam_df, on='student_id')\n",
    "\n",
    "print(\"Final DataFrame:\")\n",
    "print(final_df)\n",
    "\n"
   ]
  },
  {
   "cell_type": "code",
   "execution_count": 7,
   "id": "747c9dca",
   "metadata": {},
   "outputs": [
    {
     "name": "stdout",
     "output_type": "stream",
     "text": [
      "Merged DataFrame:\n",
      "  student_id       name_1  marks_1            name_2  marks_2\n",
      "0         S4    Ed Bernal      222  Scarlette Fisher      201\n",
      "1         S5  Kwame Morin      199  Carla Williamson      200\n"
     ]
    }
   ],
   "source": [
    "# 6. Write a Pandas program to join the two dataframes using the common column of both dataframes.\n",
    "# Test Data\n",
    "student_data1 = {\n",
    "    'student_id': ['S1', 'S2', 'S3', 'S4', 'S5'],\n",
    "    'name': ['Danniella Fenton', 'Ryder Storey', 'Bryce Jensen', 'Ed Bernal', 'Kwame Morin'],\n",
    "    'marks': [200, 210, 190, 222, 199]\n",
    "}\n",
    "student_data2 = {\n",
    "    'student_id': ['S4', 'S5', 'S6', 'S7', 'S8'],\n",
    "    'name': ['Scarlette Fisher', 'Carla Williamson', 'Dante Morse', 'Kaiser William', 'Madeeha Preston'],\n",
    "    'marks': [201, 200, 198, 219, 201]\n",
    "}\n",
    "\n",
    "# Creating dataframes\n",
    "df1 = pd.DataFrame(student_data1)\n",
    "df2 = pd.DataFrame(student_data2)\n",
    "# Joining dataframes using the common column 'student_id'\n",
    "merged_df = pd.merge(df1, df2, on='student_id', suffixes=('_1', '_2'))\n",
    "print(\"Merged DataFrame:\")\n",
    "print(merged_df)\n"
   ]
  },
  {
   "cell_type": "code",
   "execution_count": 8,
   "id": "f33ef221",
   "metadata": {},
   "outputs": [
    {
     "name": "stdout",
     "output_type": "stream",
     "text": [
      "Merged DataFrame:\n",
      "  student_id            name_1  marks_1            name_2  marks_2\n",
      "0         S1  Danniella Fenton    200.0               NaN      NaN\n",
      "1         S2      Ryder Storey    210.0               NaN      NaN\n",
      "2         S3      Bryce Jensen    190.0               NaN      NaN\n",
      "3         S4         Ed Bernal    222.0  Scarlette Fisher    201.0\n",
      "4         S5       Kwame Morin    199.0  Carla Williamson    200.0\n",
      "5         S6               NaN      NaN       Dante Morse    198.0\n",
      "6         S7               NaN      NaN    Kaiser William    219.0\n",
      "7         S8               NaN      NaN   Madeeha Preston    201.0\n"
     ]
    }
   ],
   "source": [
    "# 7.  Write a Pandas program to join the two dataframes with matching records from both sides where available.\n",
    "# Test Data\n",
    "student_data1 = {\n",
    "    'student_id': ['S1', 'S2', 'S3', 'S4', 'S5'],\n",
    "    'name': ['Danniella Fenton', 'Ryder Storey', 'Bryce Jensen', 'Ed Bernal', 'Kwame Morin'],\n",
    "    'marks': [200, 210, 190, 222, 199]\n",
    "}\n",
    "\n",
    "student_data2 = {\n",
    "    'student_id': ['S4', 'S5', 'S6', 'S7', 'S8'],\n",
    "    'name': ['Scarlette Fisher', 'Carla Williamson', 'Dante Morse', 'Kaiser William', 'Madeeha Preston'],\n",
    "    'marks': [201, 200, 198, 219, 201]\n",
    "}\n",
    "\n",
    "# Creating dataframes\n",
    "df1 = pd.DataFrame(student_data1)\n",
    "df2 = pd.DataFrame(student_data2)\n",
    "\n",
    "# Performing an outer join to get matching records from both sides where available\n",
    "merged_df = pd.merge(df1, df2, on='student_id', how='outer', suffixes=('_1', '_2'))\n",
    "\n",
    "print(\"Merged DataFrame:\")\n",
    "print(merged_df)\n"
   ]
  },
  {
   "cell_type": "code",
   "execution_count": 9,
   "id": "7ab4a758",
   "metadata": {},
   "outputs": [
    {
     "name": "stdout",
     "output_type": "stream",
     "text": [
      "Left Joined DataFrame:\n",
      "  key1 key2   P   Q    R    S\n",
      "0   K0   K0  P0  Q0   R0   S0\n",
      "1   K0   K1  P1  Q1  NaN  NaN\n",
      "2   K1   K0  P2  Q2   R1   S1\n",
      "3   K1   K0  P2  Q2   R2   S2\n",
      "4   K2   K1  P3  Q3  NaN  NaN\n"
     ]
    }
   ],
   "source": [
    "# 8. Write a Pandas program to join (left join) the two dataframes using keys from left dataframe only.\n",
    "import pandas as pd\n",
    "\n",
    "# Test Data\n",
    "data1 = {\n",
    "    'key1': ['K0', 'K0', 'K1', 'K2'],\n",
    "    'key2': ['K0', 'K1', 'K0', 'K1'],\n",
    "    'P': ['P0', 'P1', 'P2', 'P3'],\n",
    "    'Q': ['Q0', 'Q1', 'Q2', 'Q3']\n",
    "}\n",
    "\n",
    "data2 = {\n",
    "    'key1': ['K0', 'K1', 'K1', 'K2'],\n",
    "    'key2': ['K0', 'K0', 'K0', 'K0'],\n",
    "    'R': ['R0', 'R1', 'R2', 'R3'],\n",
    "    'S': ['S0', 'S1', 'S2', 'S3']\n",
    "}\n",
    "# Creating dataframes\n",
    "df1 = pd.DataFrame(data1)\n",
    "df2 = pd.DataFrame(data2)\n",
    "\n",
    "# Performing a left join using keys from the left dataframe only\n",
    "left_join_df = pd.merge(df1, df2, on=['key1', 'key2'], how='left')\n",
    "\n",
    "print(\"Left Joined DataFrame:\")\n",
    "print(left_join_df)\n",
    "\n"
   ]
  },
  {
   "cell_type": "code",
   "execution_count": 10,
   "id": "e2d921fc",
   "metadata": {},
   "outputs": [
    {
     "name": "stdout",
     "output_type": "stream",
     "text": [
      "Right Joined DataFrame:\n",
      "  key1 key2    P    Q   R   S\n",
      "0   K0   K0   P0   Q0  R0  S0\n",
      "1   K1   K0   P2   Q2  R1  S1\n",
      "2   K1   K0   P2   Q2  R2  S2\n",
      "3   K2   K0  NaN  NaN  R3  S3\n"
     ]
    }
   ],
   "source": [
    "#9. Write a Pandas program to join two dataframes using keys from right dataframe only.\n",
    "# Test Data\n",
    "data1 = {\n",
    "    'key1': ['K0', 'K0', 'K1', 'K2'],\n",
    "    'key2': ['K0', 'K1', 'K0', 'K1'],\n",
    "    'P': ['P0', 'P1', 'P2', 'P3'],\n",
    "    'Q': ['Q0', 'Q1', 'Q2', 'Q3']\n",
    "}\n",
    "\n",
    "data2 = {\n",
    "    'key1': ['K0', 'K1', 'K1', 'K2'],\n",
    "    'key2': ['K0', 'K0', 'K0', 'K0'],\n",
    "    'R': ['R0', 'R1', 'R2', 'R3'],\n",
    "    'S': ['S0', 'S1', 'S2', 'S3']\n",
    "}\n",
    "\n",
    "# Creating dataframes\n",
    "df1 = pd.DataFrame(data1)\n",
    "df2 = pd.DataFrame(data2)\n",
    "\n",
    "# Performing a right join using keys from the right dataframe only\n",
    "right_join_df = pd.merge(df1, df2, on=['key1', 'key2'], how='right')\n",
    "\n",
    "print(\"Right Joined DataFrame:\")\n",
    "print(right_join_df)\n"
   ]
  },
  {
   "cell_type": "code",
   "execution_count": 11,
   "id": "bc28f5bd",
   "metadata": {},
   "outputs": [
    {
     "name": "stdout",
     "output_type": "stream",
     "text": [
      "Merged Dataframe using multiple join keys:\n",
      "  key1 key2   P   Q   R   S\n",
      "0   K0   K0  P0  Q0  R0  S0\n",
      "1   K1   K0  P2  Q2  R1  S1\n",
      "2   K1   K0  P2  Q2  R2  S2\n"
     ]
    }
   ],
   "source": [
    "#10. Write a Pandas program to merge two given datasets using multiple join keys.\n",
    "# Test Data\n",
    "data1 = {\n",
    "    'key1': ['K0', 'K0', 'K1', 'K2'],\n",
    "    'key2': ['K0', 'K1', 'K0', 'K1'],\n",
    "    'P': ['P0', 'P1', 'P2', 'P3'],\n",
    "    'Q': ['Q0', 'Q1', 'Q2', 'Q3']\n",
    "}\n",
    "\n",
    "data2 = {\n",
    "    'key1': ['K0', 'K1', 'K1', 'K2'],\n",
    "    'key2': ['K0', 'K0', 'K0', 'K0'],\n",
    "    'R': ['R0', 'R1', 'R2', 'R3'],\n",
    "    'S': ['S0', 'S1', 'S2', 'S3']\n",
    "}\n",
    "\n",
    "# Creating dataframes\n",
    "df1 = pd.DataFrame(data1)\n",
    "df2 = pd.DataFrame(data2)\n",
    "\n",
    "# Merging the dataframes using multiple join keys\n",
    "merged_df = pd.merge(df1, df2, on=['key1', 'key2'])\n",
    "\n",
    "print(\"Merged Dataframe using multiple join keys:\")\n",
    "print(merged_df)\n"
   ]
  },
  {
   "cell_type": "code",
   "execution_count": 12,
   "id": "5277a291",
   "metadata": {},
   "outputs": [
    {
     "name": "stdout",
     "output_type": "stream",
     "text": [
      "New DataFrame with overridden column names:\n",
      "    X  Y\n",
      "0  10  1\n",
      "1  20  2\n",
      "2  30  3\n",
      "3  40  4\n",
      "4  50  5\n",
      "Combinations where a column id combination appears more than once in both dataframes:\n",
      "  key1 key2   P   Q   R   S\n",
      "1   K1   K0  P2  Q2  R1  S1\n",
      "2   K1   K0  P2  Q2  R2  S2\n"
     ]
    }
   ],
   "source": [
    "# 11. Write a Pandas program to create a new DataFrame based on existing series, using specified argument and override the existing columns names.\n",
    "\n",
    "# Existing series\n",
    "series1 = pd.Series([10, 20, 30, 40, 50], name='A')\n",
    "series2 = pd.Series([1, 2, 3, 4, 5], name='B')\n",
    "\n",
    "# Specified column names\n",
    "new_columns = ['X', 'Y']\n",
    "\n",
    "# Creating a new DataFrame with existing series and overriding column names\n",
    "new_df = pd.DataFrame({new_columns[0]: series1, new_columns[1]: series2})\n",
    "\n",
    "print(\"New DataFrame with overridden column names:\")\n",
    "print(new_df)\n",
    "\n",
    "# 12. Write a Pandas program to create a combination from two dataframes where a column id combination appears more than once in both dataframes.\n",
    "# Test Data\n",
    "data1 = {\n",
    "    'key1': ['K0', 'K0', 'K1', 'K2'],\n",
    "    'key2': ['K0', 'K1', 'K0', 'K1'],\n",
    "    'P': ['P0', 'P1', 'P2', 'P3'],\n",
    "    'Q': ['Q0', 'Q1', 'Q2', 'Q3']\n",
    "}\n",
    "\n",
    "data2 = {\n",
    "    'key1': ['K0', 'K1', 'K1', 'K2'],\n",
    "    'key2': ['K0', 'K0', 'K0', 'K0'],\n",
    "    'R': ['R0', 'R1', 'R2', 'R3'],\n",
    "    'S': ['S0', 'S1', 'S2', 'S3']\n",
    "}\n",
    "\n",
    "# Creating dataframes\n",
    "df1 = pd.DataFrame(data1)\n",
    "df2 = pd.DataFrame(data2)\n",
    "\n",
    "# Merging dataframes using the 'key1' and 'key2' columns\n",
    "merged_df = pd.merge(df1, df2, on=['key1', 'key2'])\n",
    "\n",
    "# Getting combinations where a column id combination appears more than once in both dataframes\n",
    "duplicates = merged_df[merged_df.duplicated(subset=['key1', 'key2'], keep=False)]\n",
    "\n",
    "print(\"Combinations where a column id combination appears more than once in both dataframes:\")\n",
    "print(duplicates)\n"
   ]
  },
  {
   "cell_type": "code",
   "execution_count": 13,
   "id": "e6c17123",
   "metadata": {},
   "outputs": [
    {
     "name": "stdout",
     "output_type": "stream",
     "text": [
      "Combinations where a column id combination appears more than once in both dataframes:\n",
      "  key1 key2   P   Q   R   S\n",
      "1   K1   K0  P2  Q2  R1  S1\n",
      "2   K1   K0  P2  Q2  R2  S2\n"
     ]
    }
   ],
   "source": [
    "# 12. Write a Pandas program to create a combination from two dataframes where a column id combination appears more than once in both dataframes.\n",
    "# Test Data\n",
    "data1 = {\n",
    "    'key1': ['K0', 'K0', 'K1', 'K2'],\n",
    "    'key2': ['K0', 'K1', 'K0', 'K1'],\n",
    "    'P': ['P0', 'P1', 'P2', 'P3'],\n",
    "    'Q': ['Q0', 'Q1', 'Q2', 'Q3']\n",
    "}\n",
    "\n",
    "data2 = {\n",
    "    'key1': ['K0', 'K1', 'K1', 'K2'],\n",
    "    'key2': ['K0', 'K0', 'K0', 'K0'],\n",
    "    'R': ['R0', 'R1', 'R2', 'R3'],\n",
    "    'S': ['S0', 'S1', 'S2', 'S3']\n",
    "}\n",
    "\n",
    "# Creating dataframes\n",
    "df1 = pd.DataFrame(data1)\n",
    "df2 = pd.DataFrame(data2)\n",
    "\n",
    "# Merging dataframes using the 'key1' and 'key2' columns\n",
    "merged_df = pd.merge(df1, df2, on=['key1', 'key2'])\n",
    "\n",
    "# Getting combinations where a column id combination appears more than once in both dataframes\n",
    "duplicates = merged_df[merged_df.duplicated(subset=['key1', 'key2'], keep=False)]\n",
    "\n",
    "print(\"Combinations where a column id combination appears more than once in both dataframes:\")\n",
    "print(duplicates)\n"
   ]
  },
  {
   "cell_type": "code",
   "execution_count": 14,
   "id": "5521efd2",
   "metadata": {},
   "outputs": [
    {
     "name": "stdout",
     "output_type": "stream",
     "text": [
      "Result DataFrame:\n",
      "      A    B    C    D\n",
      "K0   A0   B0   C0   D0\n",
      "K1   A1   B1  NaN  NaN\n",
      "K2   A2   B2   C2   D2\n",
      "K3  NaN  NaN   C3   D3\n"
     ]
    }
   ],
   "source": [
    "# 13.Write a Pandas program to combine the columns of two potentially differently-indexed DataFrames into a single result DataFrame.\n",
    "\n",
    "# Test Data\n",
    "data1 = {\n",
    "    'A': ['A0', 'A1', 'A2'],\n",
    "    'B': ['B0', 'B1', 'B2']\n",
    "}\n",
    "data2 = {\n",
    "    'C': ['C0', 'C2', 'C3'],\n",
    "    'D': ['D0', 'D2', 'D3']\n",
    "}\n",
    "# Creating dataframes with potentially different indices\n",
    "df1 = pd.DataFrame(data1, index=['K0', 'K1', 'K2'])\n",
    "df2 = pd.DataFrame(data2, index=['K0', 'K2', 'K3'])\n",
    "\n",
    "# Combining the columns of two potentially differently-indexed DataFrames\n",
    "result_df = pd.concat([df1, df2], axis=1, sort=False)\n",
    "\n",
    "print(\"Result DataFrame:\")\n",
    "print(result_df)\n",
    "\n"
   ]
  },
  {
   "cell_type": "code",
   "execution_count": 15,
   "id": "61032837",
   "metadata": {},
   "outputs": [
    {
     "name": "stdout",
     "output_type": "stream",
     "text": [
      "Merged DataFrame:\n",
      "  key1 key2   P   Q   R   S\n",
      "0   K0   K0  P0  Q0  R0  S0\n",
      "1   K1   K0  P2  Q2  R1  S1\n",
      "2   K1   K0  P2  Q2  R2  S2\n"
     ]
    }
   ],
   "source": [
    "# 14. Write a Pandas program to merge two given dataframes with different columns.\n",
    "# Test Data\n",
    "data1 = {\n",
    "    'key1': ['K0', 'K0', 'K1', 'K2'],\n",
    "    'key2': ['K0', 'K1', 'K0', 'K1'],\n",
    "    'P': ['P0', 'P1', 'P2', 'P3'],\n",
    "    'Q': ['Q0', 'Q1', 'Q2', 'Q3']\n",
    "}\n",
    "\n",
    "data2 = {\n",
    "    'key1': ['K0', 'K1', 'K1', 'K2'],\n",
    "    'key2': ['K0', 'K0', 'K0', 'K0'],\n",
    "    'R': ['R0', 'R1', 'R2', 'R3'],\n",
    "    'S': ['S0', 'S1', 'S2', 'S3']\n",
    "}\n",
    "# Creating dataframes\n",
    "df1 = pd.DataFrame(data1)\n",
    "df2 = pd.DataFrame(data2)\n",
    "# Merging dataframes with different columns\n",
    "merged_df = pd.merge(df1, df2, on=['key1', 'key2'])\n",
    "\n",
    "print(\"Merged DataFrame:\")\n",
    "print(merged_df)\n"
   ]
  },
  {
   "cell_type": "code",
   "execution_count": 16,
   "id": "14f65a77",
   "metadata": {},
   "outputs": [
    {
     "name": "stdout",
     "output_type": "stream",
     "text": [
      "Combined DataFrame:\n",
      "     A    B\n",
      "0  1.0  3.0\n",
      "1  0.0  4.0\n",
      "2  3.0  5.0\n"
     ]
    }
   ],
   "source": [
    "#15.Write a Pandas program to Combine two DataFrame objects by filling null values in one DataFrame with non-null values from other DataFrame.\n",
    "# Test Data\n",
    "data1 = {\n",
    "    'A': [np.nan, 0.0, np.nan],\n",
    "    'B': [3, 4, 5]\n",
    "}\n",
    "\n",
    "data2 = {\n",
    "    'A': [1, 1, 3],\n",
    "    'B': [3.0, np.nan, 3.0]\n",
    "}\n",
    "# Creating DataFrames\n",
    "df1 = pd.DataFrame(data1)\n",
    "df2 = pd.DataFrame(data2)\n",
    "# Combine DataFrames by filling null values in df1 with non-null values from df2\n",
    "combined_df = df1.combine_first(df2)\n",
    "\n",
    "print(\"Combined DataFrame:\")\n",
    "print(combined_df)"
   ]
  },
  {
   "cell_type": "code",
   "execution_count": null,
   "id": "228a1c6b",
   "metadata": {},
   "outputs": [],
   "source": []
  }
 ],
 "metadata": {
  "kernelspec": {
   "display_name": "Python 3 (ipykernel)",
   "language": "python",
   "name": "python3"
  },
  "language_info": {
   "codemirror_mode": {
    "name": "ipython",
    "version": 3
   },
   "file_extension": ".py",
   "mimetype": "text/x-python",
   "name": "python",
   "nbconvert_exporter": "python",
   "pygments_lexer": "ipython3",
   "version": "3.11.5"
  }
 },
 "nbformat": 4,
 "nbformat_minor": 5
}
